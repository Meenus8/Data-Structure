{
  "cells": [
    {
      "cell_type": "markdown",
      "id": "7c2d6cc8",
      "metadata": {
        "id": "7c2d6cc8"
      },
      "source": [
        "# Data Types and Structures – Assignment"
      ]
    },
    {
      "cell_type": "markdown",
      "id": "88e59f4e",
      "metadata": {
        "id": "88e59f4e"
      },
      "source": [
        "## Theoretical Questions and Answers"
      ]
    },
    {
      "cell_type": "markdown",
      "id": "330be5d1",
      "metadata": {
        "id": "330be5d1"
      },
      "source": [
        "### What are data structures, and why are they important?\n",
        "Data structures are different ways of organizing data so that we can use it effectively. They help in storing, accessing, and managing data in a logical way. They are important because they make tasks like searching, sorting, and updating data faster and more efficient."
      ]
    },
    {
      "cell_type": "markdown",
      "id": "7f60d1b5",
      "metadata": {
        "id": "7f60d1b5"
      },
      "source": [
        "### Explain the difference between mutable and immutable data types with examples.\n",
        "Mutable data types can be changed after they are created. For example, lists are mutable—you can add, remove, or change elements. Immutable data types cannot be changed once they are created. For example, strings and tuples are immutable—you can't change their content after creation."
      ]
    },
    {
      "cell_type": "markdown",
      "id": "f5a940f3",
      "metadata": {
        "id": "f5a940f3"
      },
      "source": [
        "### What are the main differences between lists and tuples in Python?\n",
        "- Lists are mutable, whereas tuples are immutable.\n",
        "- Lists use square brackets `[]`, while tuples use round brackets `()`.\n",
        "- Lists are slower than tuples because they are more flexible.\n",
        "- Tuples are often used when data should not change."
      ]
    },
    {
      "cell_type": "markdown",
      "id": "a8449830",
      "metadata": {
        "id": "a8449830"
      },
      "source": [
        "### Describe how dictionaries store data.\n",
        "Dictionaries store data in key-value pairs. Each key is unique and is used to access its corresponding value. This structure allows quick lookups, updates, and deletions using the key."
      ]
    },
    {
      "cell_type": "markdown",
      "id": "f729fb2b",
      "metadata": {
        "id": "f729fb2b"
      },
      "source": [
        "### Why might you use a set instead of a list in Python?\n",
        "Sets are used when we want to store unique items and don’t care about the order. They automatically remove duplicate values and support operations like union, intersection, and difference."
      ]
    },
    {
      "cell_type": "markdown",
      "id": "345809e5",
      "metadata": {
        "id": "345809e5"
      },
      "source": [
        "### What is a string in Python, and how is it different from a list?\n",
        "A string is a sequence of characters, like \"hello\". A list can contain any type of elements including strings, numbers, or even other lists. Unlike lists, strings are immutable, which means you can't change characters directly."
      ]
    },
    {
      "cell_type": "markdown",
      "id": "bb1d5c1b",
      "metadata": {
        "id": "bb1d5c1b"
      },
      "source": [
        "### How do tuples ensure data integrity in Python?\n",
        "Since tuples are immutable, their values can’t be changed once defined. This prevents accidental modifications and makes them useful when we want to protect the data from being changed."
      ]
    },
    {
      "cell_type": "markdown",
      "id": "67492de0",
      "metadata": {
        "id": "67492de0"
      },
      "source": [
        "### What is a hash table, and how does it relate to dictionaries in Python?\n",
        "A hash table is a data structure that maps keys to values using a hash function. Python dictionaries are built on top of hash tables. They use the key’s hash to find the value quickly."
      ]
    },
    {
      "cell_type": "markdown",
      "id": "6f3310a9",
      "metadata": {
        "id": "6f3310a9"
      },
      "source": [
        "### Can lists contain different data types in Python?\n",
        "Yes, lists in Python are flexible and can hold different types of data in the same list. For example: `[1, \"hello\", 3.5, True]` is a valid list."
      ]
    },
    {
      "cell_type": "markdown",
      "id": "663c0474",
      "metadata": {
        "id": "663c0474"
      },
      "source": [
        "### Explain why strings are immutable in Python.\n",
        "Strings are immutable to make them safer and more efficient. Once a string is created, it cannot be changed, which helps in avoiding bugs and also allows Python to optimize memory by reusing strings."
      ]
    },
    {
      "cell_type": "markdown",
      "id": "59340a75",
      "metadata": {
        "id": "59340a75"
      },
      "source": [
        "### What advantages do dictionaries offer over lists for certain tasks?\n",
        "Dictionaries allow faster access to data using keys, which is more efficient than searching through a list. They are also better for storing related information like name and age."
      ]
    },
    {
      "cell_type": "markdown",
      "id": "cf0ae7b5",
      "metadata": {
        "id": "cf0ae7b5"
      },
      "source": [
        "### Describe a scenario where using a tuple would be preferable over a list.\n",
        "If we want to store a fixed set of values that shouldn’t change, like coordinates (x, y), a tuple is better. It also works well as a key in a dictionary because it’s hashable."
      ]
    },
    {
      "cell_type": "markdown",
      "id": "a88107cd",
      "metadata": {
        "id": "a88107cd"
      },
      "source": [
        "### How do sets handle duplicate values in Python?\n",
        "Sets automatically remove duplicate values. If you add the same item multiple times, it only stores it once."
      ]
    },
    {
      "cell_type": "markdown",
      "id": "1003b61e",
      "metadata": {
        "id": "1003b61e"
      },
      "source": [
        "### How does the “in” keyword work differently for lists and dictionaries?\n",
        "In lists, the `in` keyword checks if an item exists in the list. In dictionaries, it checks if a key exists, not a value."
      ]
    },
    {
      "cell_type": "markdown",
      "id": "6ba2e27d",
      "metadata": {
        "id": "6ba2e27d"
      },
      "source": [
        "### Can you modify the elements of a tuple? Explain why or why not.\n",
        "No, you can’t modify the elements of a tuple because tuples are immutable. Once created, their content cannot be changed."
      ]
    },
    {
      "cell_type": "markdown",
      "id": "708762ec",
      "metadata": {
        "id": "708762ec"
      },
      "source": [
        "### What is a nested dictionary, and give an example of its use case.\n",
        "A nested dictionary is a dictionary inside another dictionary. It’s useful for storing complex data, like student info:\n",
        "```python\n",
        "student = {'name': 'Amit', 'grades': {'math': 90, 'science': 85}}\n",
        "```"
      ]
    },
    {
      "cell_type": "markdown",
      "id": "57f648e1",
      "metadata": {
        "id": "57f648e1"
      },
      "source": [
        "### Describe the time complexity of accessing elements in a dictionary.\n",
        "Accessing an element by key in a dictionary has average time complexity of **O(1)**, which means it’s very fast and constant time."
      ]
    },
    {
      "cell_type": "markdown",
      "id": "7fff6647",
      "metadata": {
        "id": "7fff6647"
      },
      "source": [
        "### In what situations are lists preferred over dictionaries?\n",
        "Lists are better when the order of elements matters, or when we just need to store a sequence of items without named access."
      ]
    },
    {
      "cell_type": "markdown",
      "id": "d12ebd75",
      "metadata": {
        "id": "d12ebd75"
      },
      "source": [
        "### Why are dictionaries considered unordered, and how does that affect data retrieval?\n",
        "Dictionaries didn’t maintain order before Python 3.7. Even now, though the insertion order is preserved, they are still conceptually unordered. This means you shouldn’t rely on the position of items but rather access them by their keys."
      ]
    },
    {
      "cell_type": "markdown",
      "id": "b6cf397c",
      "metadata": {
        "id": "b6cf397c"
      },
      "source": [
        "### Explain the difference between a list and a dictionary in terms of data retrieval.\n",
        "In a list, data is accessed using an index number. In a dictionary, data is accessed using a key. This makes dictionary lookups faster for large datasets."
      ]
    },
    {
      "cell_type": "markdown",
      "id": "a2dc1b09",
      "metadata": {
        "id": "a2dc1b09"
      },
      "source": [
        "## Practical Questions – Python Code"
      ]
    },
    {
      "cell_type": "markdown",
      "source": [
        "Write a code to create a string with your name and print it"
      ],
      "metadata": {
        "id": "GDmmdP9gGi_h"
      },
      "id": "GDmmdP9gGi_h"
    },
    {
      "cell_type": "code",
      "execution_count": null,
      "id": "16d2ddfa",
      "metadata": {
        "id": "16d2ddfa"
      },
      "outputs": [],
      "source": [
        "my_name = \"Meenu\"\n",
        "print(my_name)"
      ]
    },
    {
      "cell_type": "markdown",
      "source": [
        "Write a code to find the length of the string \"Hello World\""
      ],
      "metadata": {
        "id": "EtmxrvACJ4FO"
      },
      "id": "EtmxrvACJ4FO"
    },
    {
      "cell_type": "code",
      "execution_count": null,
      "id": "090c4e6f",
      "metadata": {
        "id": "090c4e6f"
      },
      "outputs": [],
      "source": [
        "text = \"Hello World\"\n",
        "print(len(text))"
      ]
    },
    {
      "cell_type": "markdown",
      "source": [
        "Write a code to slice the first 3 characters from the string \"Python Programming\""
      ],
      "metadata": {
        "id": "bpq3Uie2J9eE"
      },
      "id": "bpq3Uie2J9eE"
    },
    {
      "cell_type": "code",
      "execution_count": null,
      "id": "869e99b1",
      "metadata": {
        "id": "869e99b1"
      },
      "outputs": [],
      "source": [
        "text = \"Python Programming\"\n",
        "print(text[:3])"
      ]
    },
    {
      "cell_type": "markdown",
      "source": [
        " Write a code to convert the string \"hello\" to uppercase"
      ],
      "metadata": {
        "id": "IWsSGqQ4KEkF"
      },
      "id": "IWsSGqQ4KEkF"
    },
    {
      "cell_type": "code",
      "execution_count": null,
      "id": "b733db49",
      "metadata": {
        "id": "b733db49"
      },
      "outputs": [],
      "source": [
        "word = \"hello\"\n",
        "print(word.upper())"
      ]
    },
    {
      "cell_type": "markdown",
      "source": [
        "Write a code to replace the word \"apple\" with \"orange\" in the string \"I like apple\""
      ],
      "metadata": {
        "id": "zmfy_RIGL_i0"
      },
      "id": "zmfy_RIGL_i0"
    },
    {
      "cell_type": "code",
      "execution_count": null,
      "id": "d2a1e226",
      "metadata": {
        "id": "d2a1e226"
      },
      "outputs": [],
      "source": [
        "sentence = \"I like apple\"\n",
        "print(sentence.replace(\"apple\", \"orange\"))"
      ]
    },
    {
      "cell_type": "markdown",
      "source": [
        "Write a code to create a list with numbers 1 to 5 and print it"
      ],
      "metadata": {
        "id": "sYDY879tMDQ8"
      },
      "id": "sYDY879tMDQ8"
    },
    {
      "cell_type": "code",
      "execution_count": null,
      "id": "c10091c6",
      "metadata": {
        "id": "c10091c6"
      },
      "outputs": [],
      "source": [
        "numbers = [1, 2, 3, 4, 5]\n",
        "print(numbers)"
      ]
    },
    {
      "cell_type": "markdown",
      "source": [
        "Write a code to append the number 10 to the list [1, 2, 3, 4]"
      ],
      "metadata": {
        "id": "FkebCP58MGN9"
      },
      "id": "FkebCP58MGN9"
    },
    {
      "cell_type": "code",
      "execution_count": null,
      "id": "b225e6cf",
      "metadata": {
        "id": "b225e6cf"
      },
      "outputs": [],
      "source": [
        "numbers = [1, 2, 3, 4]\n",
        "numbers.append(10)\n",
        "print(numbers)"
      ]
    },
    {
      "cell_type": "markdown",
      "source": [
        "Write a code to remove the number 3 from the list [1, 2, 3, 4, 5]"
      ],
      "metadata": {
        "id": "CLh7y89jMJYj"
      },
      "id": "CLh7y89jMJYj"
    },
    {
      "cell_type": "code",
      "execution_count": null,
      "id": "c14a67f9",
      "metadata": {
        "id": "c14a67f9"
      },
      "outputs": [],
      "source": [
        "numbers = [1, 2, 3, 4, 5]\n",
        "numbers.remove(3)\n",
        "print(numbers)"
      ]
    },
    {
      "cell_type": "markdown",
      "source": [
        " Write a code to access the second element in the list ['a', 'b', 'c', 'd']"
      ],
      "metadata": {
        "id": "SXAlvfjqMNKO"
      },
      "id": "SXAlvfjqMNKO"
    },
    {
      "cell_type": "code",
      "execution_count": null,
      "id": "8c528a9d",
      "metadata": {
        "id": "8c528a9d"
      },
      "outputs": [],
      "source": [
        "letters = [\"a\", \"b\", \"c\", \"d\"]\n",
        "print(letters[1])"
      ]
    },
    {
      "cell_type": "markdown",
      "source": [
        " Write a code to reverse the list [10, 20, 30, 40, 50]."
      ],
      "metadata": {
        "id": "EpjTVqGlMQ7l"
      },
      "id": "EpjTVqGlMQ7l"
    },
    {
      "cell_type": "code",
      "execution_count": null,
      "id": "d267623e",
      "metadata": {
        "id": "d267623e"
      },
      "outputs": [],
      "source": [
        "numbers = [10, 20, 30, 40, 50]\n",
        "numbers.reverse()\n",
        "print(numbers)"
      ]
    },
    {
      "cell_type": "markdown",
      "source": [
        "Write a code to create a tuple with the elements 100, 200, 300 and print it"
      ],
      "metadata": {
        "id": "7vi2FBP8MVAr"
      },
      "id": "7vi2FBP8MVAr"
    },
    {
      "cell_type": "code",
      "execution_count": null,
      "id": "25479c40",
      "metadata": {
        "id": "25479c40"
      },
      "outputs": [],
      "source": [
        "my_tuple = (100, 200, 300)\n",
        "print(my_tuple)"
      ]
    },
    {
      "cell_type": "markdown",
      "source": [
        "Write a code to access the second-to-last element of the tuple ('red', 'green', 'blue', 'yellow')."
      ],
      "metadata": {
        "id": "FIL5_wQ5MX67"
      },
      "id": "FIL5_wQ5MX67"
    },
    {
      "cell_type": "code",
      "execution_count": null,
      "id": "650c9bb1",
      "metadata": {
        "id": "650c9bb1"
      },
      "outputs": [],
      "source": [
        "colors = (\"red\", \"green\", \"blue\", \"yellow\")\n",
        "print(colors[-2])"
      ]
    },
    {
      "cell_type": "markdown",
      "source": [
        "Write a code to find the minimum number in the tuple (10, 20, 5, 15)."
      ],
      "metadata": {
        "id": "xrK6A8etMdoc"
      },
      "id": "xrK6A8etMdoc"
    },
    {
      "cell_type": "code",
      "execution_count": null,
      "id": "10316654",
      "metadata": {
        "id": "10316654"
      },
      "outputs": [],
      "source": [
        "numbers = (10, 20, 5, 15)\n",
        "print(min(numbers))"
      ]
    },
    {
      "cell_type": "markdown",
      "source": [
        "Write a code to find the index of the element \"cat\" in the tuple ('dog', 'cat', 'rabbit')"
      ],
      "metadata": {
        "id": "kNFKgLB2MhHW"
      },
      "id": "kNFKgLB2MhHW"
    },
    {
      "cell_type": "code",
      "execution_count": null,
      "id": "32fe4597",
      "metadata": {
        "id": "32fe4597"
      },
      "outputs": [],
      "source": [
        "animals = (\"dog\", \"cat\", \"rabbit\")\n",
        "print(animals.index(\"cat\"))"
      ]
    },
    {
      "cell_type": "markdown",
      "source": [
        "Write a code to create a tuple containing three different fruits and check if \"kiwi\" is in it."
      ],
      "metadata": {
        "id": "wfXxhOfZMkHc"
      },
      "id": "wfXxhOfZMkHc"
    },
    {
      "cell_type": "code",
      "execution_count": null,
      "id": "748c216a",
      "metadata": {
        "id": "748c216a"
      },
      "outputs": [],
      "source": [
        "fruits = (\"apple\", \"banana\", \"grape\")\n",
        "print(\"kiwi\" in fruits)"
      ]
    },
    {
      "cell_type": "markdown",
      "source": [
        "Write a code to create a set with the elements 'a', 'b', 'c' and print it"
      ],
      "metadata": {
        "id": "_NNS7ZTMMm47"
      },
      "id": "_NNS7ZTMMm47"
    },
    {
      "cell_type": "code",
      "execution_count": null,
      "id": "7a9e28c4",
      "metadata": {
        "id": "7a9e28c4"
      },
      "outputs": [],
      "source": [
        "my_set = {\"a\", \"b\", \"c\"}\n",
        "print(my_set)"
      ]
    },
    {
      "cell_type": "markdown",
      "source": [
        "Write a code to clear all elements from the set {1, 2, 3, 4, 5}"
      ],
      "metadata": {
        "id": "ZS1cjHLRMpU8"
      },
      "id": "ZS1cjHLRMpU8"
    },
    {
      "cell_type": "code",
      "execution_count": null,
      "id": "2b185f88",
      "metadata": {
        "id": "2b185f88"
      },
      "outputs": [],
      "source": [
        "my_set = {1, 2, 3, 4, 5}\n",
        "my_set.clear()\n",
        "print(my_set)"
      ]
    },
    {
      "cell_type": "markdown",
      "source": [
        "Write a code to remove the element 4 from the set {1, 2, 3, 4}"
      ],
      "metadata": {
        "id": "ZRqQLUyJMrtW"
      },
      "id": "ZRqQLUyJMrtW"
    },
    {
      "cell_type": "code",
      "execution_count": null,
      "id": "c4a0ccf9",
      "metadata": {
        "id": "c4a0ccf9"
      },
      "outputs": [],
      "source": [
        "my_set = {1, 2, 3, 4}\n",
        "my_set.remove(4)\n",
        "print(my_set)"
      ]
    },
    {
      "cell_type": "markdown",
      "source": [
        "Write a code to find the union of two sets {1, 2, 3} and {3, 4, 5}"
      ],
      "metadata": {
        "id": "DyECjHcJMuVr"
      },
      "id": "DyECjHcJMuVr"
    },
    {
      "cell_type": "code",
      "execution_count": null,
      "id": "c7232e76",
      "metadata": {
        "id": "c7232e76"
      },
      "outputs": [],
      "source": [
        "set1 = {1, 2, 3}\n",
        "set2 = {3, 4, 5}\n",
        "print(set1.union(set2))"
      ]
    },
    {
      "cell_type": "markdown",
      "source": [
        "Write a code to find the intersection of two sets {1, 2, 3} and {2, 3, 4}"
      ],
      "metadata": {
        "id": "4r_Uv-njMxOG"
      },
      "id": "4r_Uv-njMxOG"
    },
    {
      "cell_type": "code",
      "execution_count": null,
      "id": "a85d87d2",
      "metadata": {
        "id": "a85d87d2"
      },
      "outputs": [],
      "source": [
        "set1 = {1, 2, 3}\n",
        "set2 = {2, 3, 4}\n",
        "print(set1.intersection(set2))"
      ]
    },
    {
      "cell_type": "markdown",
      "source": [
        "Write a code to create a dictionary with the keys \"name\", \"age\", and \"city\", and print it"
      ],
      "metadata": {
        "id": "c197DyWhMzhT"
      },
      "id": "c197DyWhMzhT"
    },
    {
      "cell_type": "code",
      "execution_count": null,
      "id": "335af31f",
      "metadata": {
        "id": "335af31f"
      },
      "outputs": [],
      "source": [
        "person = {\"name\": \"John\", \"age\": 25, \"city\": \"Delhi\"}\n",
        "print(person)"
      ]
    },
    {
      "cell_type": "markdown",
      "source": [
        "Write a code to add a new key-value pair \"country\": \"USA\" to the dictionary {'name': 'John', 'age': 25}."
      ],
      "metadata": {
        "id": "0V9aA5CkM19n"
      },
      "id": "0V9aA5CkM19n"
    },
    {
      "cell_type": "code",
      "execution_count": null,
      "id": "e2d19a26",
      "metadata": {
        "id": "e2d19a26"
      },
      "outputs": [],
      "source": [
        "person = {\"name\": \"John\", \"age\": 25}\n",
        "person[\"country\"] = \"USA\"\n",
        "print(person)"
      ]
    },
    {
      "cell_type": "markdown",
      "source": [
        "Write a code to access the value associated with the key \"name\" in the dictionary {'name': 'Alice', 'age': 30}"
      ],
      "metadata": {
        "id": "W9F-DsttM4rO"
      },
      "id": "W9F-DsttM4rO"
    },
    {
      "cell_type": "code",
      "execution_count": null,
      "id": "b0eadd99",
      "metadata": {
        "id": "b0eadd99"
      },
      "outputs": [],
      "source": [
        "person = {\"name\": \"Alice\", \"age\": 30}\n",
        "print(person[\"name\"])"
      ]
    },
    {
      "cell_type": "markdown",
      "source": [
        "Write a code to remove the key \"age\" from the dictionary {'name': 'Bob', 'age': 22, 'city': 'New York'}."
      ],
      "metadata": {
        "id": "-BNmr21gM7Pf"
      },
      "id": "-BNmr21gM7Pf"
    },
    {
      "cell_type": "code",
      "execution_count": null,
      "id": "0a671c60",
      "metadata": {
        "id": "0a671c60"
      },
      "outputs": [],
      "source": [
        "person = {\"name\": \"Bob\", \"age\": 22, \"city\": \"New York\"}\n",
        "del person[\"age\"]\n",
        "print(person)"
      ]
    },
    {
      "cell_type": "markdown",
      "source": [
        "Write a code to check if the key \"city\" exists in the dictionary {'name': 'Alice', 'city': 'Paris'}"
      ],
      "metadata": {
        "id": "1DxwhE4VM9lH"
      },
      "id": "1DxwhE4VM9lH"
    },
    {
      "cell_type": "code",
      "execution_count": null,
      "id": "2922dfef",
      "metadata": {
        "id": "2922dfef"
      },
      "outputs": [],
      "source": [
        "person = {\"name\": \"Alice\", \"city\": \"Paris\"}\n",
        "print(\"city\" in person)"
      ]
    },
    {
      "cell_type": "markdown",
      "source": [
        "Write a code to create a list, a tuple, and a dictionary, and print them all."
      ],
      "metadata": {
        "id": "2Ecnc1nTNAL0"
      },
      "id": "2Ecnc1nTNAL0"
    },
    {
      "cell_type": "code",
      "execution_count": null,
      "id": "715a33f4",
      "metadata": {
        "id": "715a33f4"
      },
      "outputs": [],
      "source": [
        "my_list = [1, 2, 3]\n",
        "my_tuple = (\"a\", \"b\", \"c\")\n",
        "my_dict = {\"name\": \"Anil\", \"age\": 20}\n",
        "print(my_list)\n",
        "print(my_tuple)\n",
        "print(my_dict)"
      ]
    },
    {
      "cell_type": "markdown",
      "source": [
        "Write a code to create a list of 5 random numbers between 1 and 100, sort it in ascending order, and print the\n",
        "result.(replaced)"
      ],
      "metadata": {
        "id": "BnLflLnDNHPX"
      },
      "id": "BnLflLnDNHPX"
    },
    {
      "cell_type": "code",
      "execution_count": null,
      "id": "10c0212c",
      "metadata": {
        "id": "10c0212c"
      },
      "outputs": [],
      "source": [
        "import random\n",
        "numbers = random.sample(range(1, 101), 5)\n",
        "numbers.sort()\n",
        "print(numbers)"
      ]
    },
    {
      "cell_type": "markdown",
      "source": [
        "Write a code to create a list with strings and print the element at the third index"
      ],
      "metadata": {
        "id": "YBQ637ouNKgc"
      },
      "id": "YBQ637ouNKgc"
    },
    {
      "cell_type": "code",
      "execution_count": null,
      "id": "d6962423",
      "metadata": {
        "id": "d6962423"
      },
      "outputs": [],
      "source": [
        "words = [\"apple\", \"banana\", \"cherry\", \"date\", \"elderberry\"]\n",
        "print(words[3])"
      ]
    },
    {
      "cell_type": "markdown",
      "source": [
        "Write a code to combine two dictionaries into one and print the result."
      ],
      "metadata": {
        "id": "Ek-ddG_fNQfD"
      },
      "id": "Ek-ddG_fNQfD"
    },
    {
      "cell_type": "code",
      "execution_count": null,
      "id": "684894a9",
      "metadata": {
        "id": "684894a9"
      },
      "outputs": [],
      "source": [
        "dict1 = {\"a\": 1, \"b\": 2}\n",
        "dict2 = {\"c\": 3, \"d\": 4}\n",
        "combined = {**dict1, **dict2}\n",
        "print(combined)"
      ]
    },
    {
      "cell_type": "markdown",
      "source": [
        "Write a code to convert a list of strings into a set."
      ],
      "metadata": {
        "id": "eJKqOfw6NTCs"
      },
      "id": "eJKqOfw6NTCs"
    },
    {
      "cell_type": "code",
      "execution_count": null,
      "id": "992dd354",
      "metadata": {
        "id": "992dd354"
      },
      "outputs": [],
      "source": [
        "words = [\"apple\", \"banana\", \"apple\", \"cherry\"]\n",
        "unique_words = set(words)\n",
        "print(unique_words)"
      ]
    }
  ],
  "metadata": {
    "colab": {
      "provenance": []
    }
  },
  "nbformat": 4,
  "nbformat_minor": 5
}